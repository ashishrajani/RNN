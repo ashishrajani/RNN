{
  "nbformat": 4,
  "nbformat_minor": 0,
  "metadata": {
    "kernelspec": {
      "language": "python",
      "display_name": "Python 3",
      "name": "python3"
    },
    "language_info": {
      "pygments_lexer": "ipython3",
      "nbconvert_exporter": "python",
      "version": "3.6.4",
      "file_extension": ".py",
      "codemirror_mode": {
        "name": "ipython",
        "version": 3
      },
      "name": "python",
      "mimetype": "text/x-python"
    },
    "colab": {
      "name": "sentiment-analysis-using-lstm-pytorch.ipynb",
      "provenance": [],
      "include_colab_link": true
    },
    "accelerator": "GPU"
  },
  "cells": [
    {
      "cell_type": "markdown",
      "metadata": {
        "id": "view-in-github",
        "colab_type": "text"
      },
      "source": [
        "<a href=\"https://colab.research.google.com/github/ashishrajani/RNN/blob/main/sentiment_analysis_using_lstm_pytorch.ipynb\" target=\"_parent\"><img src=\"https://colab.research.google.com/assets/colab-badge.svg\" alt=\"Open In Colab\"/></a>"
      ]
    },
    {
      "cell_type": "markdown",
      "metadata": {
        "id": "U6NxvGDdLHaT"
      },
      "source": [
        "In this kernel we will go through a sentiment analysis on imdb dataset using LSTM."
      ]
    },
    {
      "cell_type": "code",
      "metadata": {
        "_uuid": "8f2839f25d086af736a60e9eeb907d3b93b6e0e5",
        "_cell_guid": "b1076dfc-b9ad-4769-8c92-a6c4dae69d19",
        "trusted": true,
        "colab": {
          "base_uri": "https://localhost:8080/"
        },
        "id": "ahZr2Eq_LHaV",
        "outputId": "5c7a1203-eb56-40cf-adb4-e494a1717a05"
      },
      "source": [
        "import numpy as np # linear algebra\n",
        "import pandas as pd # data processing, CSV file I/O (e.g. pd.read_csv)\n",
        "import torch\n",
        "import torch.nn as nn\n",
        "import torch.nn.functional as F\n",
        "from nltk.corpus import stopwords \n",
        "from collections import Counter\n",
        "import string\n",
        "import re\n",
        "import seaborn as sns\n",
        "from tqdm import tqdm\n",
        "import matplotlib.pyplot as plt\n",
        "from torch.utils.data import TensorDataset, DataLoader\n",
        "from sklearn.model_selection import train_test_split\n",
        "\n",
        "import nltk\n",
        "nltk.download('stopwords')"
      ],
      "execution_count": 1,
      "outputs": [
        {
          "output_type": "stream",
          "text": [
            "[nltk_data] Downloading package stopwords to /root/nltk_data...\n",
            "[nltk_data]   Unzipping corpora/stopwords.zip.\n"
          ],
          "name": "stdout"
        },
        {
          "output_type": "execute_result",
          "data": {
            "text/plain": [
              "True"
            ]
          },
          "metadata": {
            "tags": []
          },
          "execution_count": 1
        }
      ]
    },
    {
      "cell_type": "code",
      "metadata": {
        "trusted": true,
        "colab": {
          "base_uri": "https://localhost:8080/"
        },
        "id": "F15cZYAGLHaW",
        "outputId": "745b1bb9-66f2-4385-aff1-fd3f2f290847"
      },
      "source": [
        "is_cuda = torch.cuda.is_available()\n",
        "\n",
        "# If we have a GPU available, we'll set our device to GPU. We'll use this device variable later in our code.\n",
        "if is_cuda:\n",
        "    device = torch.device(\"cuda\")\n",
        "    print(\"GPU is available\")\n",
        "else:\n",
        "    device = torch.device(\"cpu\")\n",
        "    print(\"GPU not available, CPU used\")"
      ],
      "execution_count": 2,
      "outputs": [
        {
          "output_type": "stream",
          "text": [
            "GPU is available\n"
          ],
          "name": "stdout"
        }
      ]
    },
    {
      "cell_type": "code",
      "metadata": {
        "_uuid": "d629ff2d2480ee46fbb7e2d37f6b5fab8052498a",
        "_cell_guid": "79c7e3d0-c299-4dcb-8224-4455121ee9b0",
        "trusted": true,
        "colab": {
          "base_uri": "https://localhost:8080/",
          "height": 204
        },
        "id": "8TGhC_W6LHaW",
        "outputId": "6f31e75b-0bfc-4439-a154-8fd08329d5c9"
      },
      "source": [
        "import csv\n",
        "base_csv = './IMDB Dataset.csv'\n",
        "df = pd.read_csv(base_csv, encoding='utf-8', sep=',', engine='python', error_bad_lines=False)\n",
        "df.head()"
      ],
      "execution_count": 3,
      "outputs": [
        {
          "output_type": "execute_result",
          "data": {
            "text/html": [
              "<div>\n",
              "<style scoped>\n",
              "    .dataframe tbody tr th:only-of-type {\n",
              "        vertical-align: middle;\n",
              "    }\n",
              "\n",
              "    .dataframe tbody tr th {\n",
              "        vertical-align: top;\n",
              "    }\n",
              "\n",
              "    .dataframe thead th {\n",
              "        text-align: right;\n",
              "    }\n",
              "</style>\n",
              "<table border=\"1\" class=\"dataframe\">\n",
              "  <thead>\n",
              "    <tr style=\"text-align: right;\">\n",
              "      <th></th>\n",
              "      <th>review</th>\n",
              "      <th>sentiment</th>\n",
              "    </tr>\n",
              "  </thead>\n",
              "  <tbody>\n",
              "    <tr>\n",
              "      <th>0</th>\n",
              "      <td>One of the other reviewers has mentioned that ...</td>\n",
              "      <td>positive</td>\n",
              "    </tr>\n",
              "    <tr>\n",
              "      <th>1</th>\n",
              "      <td>A wonderful little production. &lt;br /&gt;&lt;br /&gt;The...</td>\n",
              "      <td>positive</td>\n",
              "    </tr>\n",
              "    <tr>\n",
              "      <th>2</th>\n",
              "      <td>I thought this was a wonderful way to spend ti...</td>\n",
              "      <td>positive</td>\n",
              "    </tr>\n",
              "    <tr>\n",
              "      <th>3</th>\n",
              "      <td>Basically there's a family where a little boy ...</td>\n",
              "      <td>negative</td>\n",
              "    </tr>\n",
              "    <tr>\n",
              "      <th>4</th>\n",
              "      <td>Petter Mattei's \"Love in the Time of Money\" is...</td>\n",
              "      <td>positive</td>\n",
              "    </tr>\n",
              "  </tbody>\n",
              "</table>\n",
              "</div>"
            ],
            "text/plain": [
              "                                              review sentiment\n",
              "0  One of the other reviewers has mentioned that ...  positive\n",
              "1  A wonderful little production. <br /><br />The...  positive\n",
              "2  I thought this was a wonderful way to spend ti...  positive\n",
              "3  Basically there's a family where a little boy ...  negative\n",
              "4  Petter Mattei's \"Love in the Time of Money\" is...  positive"
            ]
          },
          "metadata": {
            "tags": []
          },
          "execution_count": 3
        }
      ]
    },
    {
      "cell_type": "markdown",
      "metadata": {
        "id": "KzjIVlAnLHaW"
      },
      "source": [
        "### Splitting to train and test data"
      ]
    },
    {
      "cell_type": "markdown",
      "metadata": {
        "id": "hhu1vCbZLHaX"
      },
      "source": [
        "We will split data to train and test initially.Doing this on earlier stage allows to avoid data lekage.\n"
      ]
    },
    {
      "cell_type": "code",
      "metadata": {
        "trusted": true,
        "colab": {
          "base_uri": "https://localhost:8080/"
        },
        "id": "CadnEMVELHaX",
        "outputId": "c0bcd23d-4d5a-48eb-f042-2075fd34821d"
      },
      "source": [
        "X,y = df['review'].values,df['sentiment'].values\n",
        "x_train,x_test,y_train,y_test = train_test_split(X,y,stratify=y)\n",
        "print(f'shape of train data is {x_train.shape}')\n",
        "print(f'shape of test data is {x_test.shape}')"
      ],
      "execution_count": 4,
      "outputs": [
        {
          "output_type": "stream",
          "text": [
            "shape of train data is (37500,)\n",
            "shape of test data is (12500,)\n"
          ],
          "name": "stdout"
        }
      ]
    },
    {
      "cell_type": "markdown",
      "metadata": {
        "id": "LGYLkgwfLHaX"
      },
      "source": [
        "### Analysing sentiment"
      ]
    },
    {
      "cell_type": "code",
      "metadata": {
        "trusted": true,
        "colab": {
          "base_uri": "https://localhost:8080/",
          "height": 265
        },
        "id": "7L613rewLHaX",
        "outputId": "e47dce72-773d-4b33-dd90-19a3c9b861a1"
      },
      "source": [
        "dd = pd.Series(y_train).value_counts()\n",
        "sns.barplot(x=np.array(['negative','positive']),y=dd.values)\n",
        "plt.show()"
      ],
      "execution_count": 5,
      "outputs": [
        {
          "output_type": "display_data",
          "data": {
            "image/png": "[encoded data removed]",
            "text/plain": [
              "<Figure size 432x288 with 1 Axes>"
            ]
          },
          "metadata": {
            "tags": [],
            "needs_background": "light"
          }
        }
      ]
    },
    {
      "cell_type": "markdown",
      "metadata": {
        "id": "QblGr3hvLHaY"
      },
      "source": [
        "### Tockenization"
      ]
    },
    {
      "cell_type": "code",
      "metadata": {
        "trusted": true,
        "id": "AWArZmDVLHaY"
      },
      "source": [
        "def preprocess_string(s):\n",
        "    # Remove all non-word characters (everything except numbers and letters)\n",
        "    s = re.sub(r\"[^\\w\\s]\", '', s)\n",
        "    # Replace all runs of whitespaces with no space\n",
        "    s = re.sub(r\"\\s+\", '', s)\n",
        "    # replace digits with no space\n",
        "    s = re.sub(r\"\\d\", '', s)\n",
        "\n",
        "    return s\n",
        "\n",
        "def tockenize(x_train,y_train,x_val,y_val):\n",
        "    word_list = []\n",
        "\n",
        "    stop_words = set(stopwords.words('english')) \n",
        "    for sent in x_train:\n",
        "        for word in sent.lower().split():\n",
        "            word = preprocess_string(word)\n",
        "            if word not in stop_words and word != '':\n",
        "                word_list.append(word)\n",
        "  \n",
        "    corpus = Counter(word_list)\n",
        "    # sorting on the basis of most common words\n",
        "    corpus_ = sorted(corpus,key=corpus.get,reverse=True)[:1000]\n",
        "    # creating a dict\n",
        "    onehot_dict = {w:i+1 for i,w in enumerate(corpus_)}\n",
        "    \n",
        "    # tockenize\n",
        "    final_list_train,final_list_test = [],[]\n",
        "    for sent in x_train:\n",
        "      final_list_train.append([onehot_dict[preprocess_string(word)] for word in sent.lower().split() \n",
        "                                     if preprocess_string(word) in onehot_dict.keys()])\n",
        "    for sent in x_val:\n",
        "      final_list_test.append([onehot_dict[preprocess_string(word)] for word in sent.lower().split() \n",
        "                                    if preprocess_string(word) in onehot_dict.keys()])\n",
        "            \n",
        "    encoded_train = [1 if label =='positive' else 0 for label in y_train]  \n",
        "    encoded_test = [1 if label =='positive' else 0 for label in y_val] \n",
        "    return np.array(final_list_train), np.array(encoded_train),np.array(final_list_test), np.array(encoded_test),onehot_dict"
      ],
      "execution_count": 6,
      "outputs": []
    },
    {
      "cell_type": "code",
      "metadata": {
        "trusted": true,
        "colab": {
          "base_uri": "https://localhost:8080/"
        },
        "id": "KfyOFM-XLHaZ",
        "outputId": "cb185a77-7b6f-42a8-c8ed-e65dc71be2d4"
      },
      "source": [
        "x_train,y_train,x_test,y_test,vocab = tockenize(x_train,y_train,x_test,y_test)"
      ],
      "execution_count": 7,
      "outputs": [
        {
          "output_type": "stream",
          "text": [
            "/usr/local/lib/python3.6/dist-packages/ipykernel_launcher.py:38: VisibleDeprecationWarning: Creating an ndarray from ragged nested sequences (which is a list-or-tuple of lists-or-tuples-or ndarrays with different lengths or shapes) is deprecated. If you meant to do this, you must specify 'dtype=object' when creating the ndarray\n"
          ],
          "name": "stderr"
        }
      ]
    },
    {
      "cell_type": "code",
      "metadata": {
        "trusted": true,
        "colab": {
          "base_uri": "https://localhost:8080/"
        },
        "id": "lEZRDYVSLHaZ",
        "outputId": "c4d987f7-5298-442f-c8ee-9fcea91bcd13"
      },
      "source": [
        "print(f'Length of vocabulary is {len(vocab)}')"
      ],
      "execution_count": 8,
      "outputs": [
        {
          "output_type": "stream",
          "text": [
            "Length of vocabulary is 1000\n"
          ],
          "name": "stdout"
        }
      ]
    },
    {
      "cell_type": "code",
      "metadata": {
        "id": "topYZpVEDSMG",
        "outputId": "16378059-82b0-4f4a-fe0f-212f5975d964",
        "colab": {
          "base_uri": "https://localhost:8080/"
        }
      },
      "source": [
        "print(vocab)"
      ],
      "execution_count": 10,
      "outputs": [
        {
          "output_type": "stream",
          "text": [
            "{'br': 1, 'movie': 2, 'film': 3, 'one': 4, 'like': 5, 'good': 6, 'even': 7, 'would': 8, 'time': 9, 'really': 10, 'see': 11, 'story': 12, 'much': 13, 'well': 14, 'get': 15, 'also': 16, 'bad': 17, 'great': 18, 'people': 19, 'first': 20, 'dont': 21, 'movies': 22, 'make': 23, 'films': 24, 'made': 25, 'could': 26, 'way': 27, 'characters': 28, 'think': 29, 'watch': 30, 'many': 31, 'seen': 32, 'two': 33, 'character': 34, 'never': 35, 'love': 36, 'acting': 37, 'plot': 38, 'little': 39, 'best': 40, 'know': 41, 'show': 42, 'life': 43, 'ever': 44, 'better': 45, 'still': 46, 'say': 47, 'scene': 48, 'end': 49, 'man': 50, 'scenes': 51, 'something': 52, 'go': 53, 'im': 54, 'back': 55, 'thing': 56, 'doesnt': 57, 'real': 58, 'watching': 59, 'actors': 60, 'didnt': 61, 'years': 62, 'though': 63, 'another': 64, 'actually': 65, 'funny': 66, 'makes': 67, 'look': 68, 'nothing': 69, 'find': 70, 'work': 71, 'new': 72, 'going': 73, 'every': 74, 'lot': 75, 'old': 76, 'cant': 77, 'us': 78, 'part': 79, 'director': 80, 'thats': 81, 'want': 82, 'quite': 83, 'things': 84, 'cast': 85, 'pretty': 86, 'seems': 87, 'around': 88, 'young': 89, 'got': 90, 'take': 91, 'world': 92, 'however': 93, 'fact': 94, 'enough': 95, 'give': 96, 'ive': 97, 'big': 98, 'thought': 99, 'horror': 100, 'may': 101, 'long': 102, 'without': 103, 'gets': 104, 'always': 105, 'isnt': 106, 'saw': 107, 'right': 108, 'almost': 109, 'original': 110, 'music': 111, 'come': 112, 'theres': 113, 'series': 114, 'times': 115, 'interesting': 116, 'must': 117, 'comedy': 118, 'least': 119, 'role': 120, 'guy': 121, 'whole': 122, 'action': 123, 'point': 124, 'bit': 125, 'done': 126, 'might': 127, 'minutes': 128, 'since': 129, 'hes': 130, 'feel': 131, 'far': 132, 'anything': 133, 'script': 134, 'last': 135, 'probably': 136, 'kind': 137, 'performance': 138, 'family': 139, 'tv': 140, 'away': 141, 'rather': 142, 'worst': 143, 'yet': 144, 'anyone': 145, 'sure': 146, 'fun': 147, 'played': 148, 'girl': 149, 'found': 150, 'making': 151, 'believe': 152, 'although': 153, 'shows': 154, 'woman': 155, 'trying': 156, 'course': 157, 'especially': 158, 'hard': 159, 'goes': 160, 'comes': 161, 'everything': 162, 'put': 163, 'day': 164, 'maybe': 165, 'different': 166, 'dvd': 167, 'looking': 168, 'main': 169, 'place': 170, 'watched': 171, 'worth': 172, 'three': 173, 'looks': 174, 'ending': 175, 'book': 176, 'wasnt': 177, 'someone': 178, 'set': 179, 'reason': 180, 'play': 181, 'sense': 182, 'screen': 183, 'plays': 184, 'true': 185, 'effects': 186, 'money': 187, 'together': 188, 'job': 189, 'actor': 190, 'everyone': 191, 'seem': 192, 'said': 193, 'takes': 194, 'special': 195, 'beautiful': 196, 'american': 197, 'instead': 198, 'later': 199, 'audience': 200, 'war': 201, 'seeing': 202, 'excellent': 203, 'left': 204, 'version': 205, 'john': 206, 'idea': 207, 'night': 208, 'shot': 209, 'fan': 210, 'high': 211, 'used': 212, 'youre': 213, 'completely': 214, 'simply': 215, 'black': 216, 'nice': 217, 'else': 218, 'wife': 219, 'poor': 220, 'kids': 221, 'read': 222, 'along': 223, 'death': 224, 'short': 225, 'house': 226, 'help': 227, 'year': 228, 'friends': 229, 'second': 230, 'home': 231, 'enjoy': 232, 'men': 233, 'half': 234, 'try': 235, 'given': 236, 'use': 237, 'less': 238, 'mind': 239, 'star': 240, 'need': 241, 'truly': 242, 'boring': 243, 'classic': 244, 'rest': 245, 'either': 246, 'performances': 247, 'couple': 248, 'production': 249, 'next': 250, 'dead': 251, 'recommend': 252, 'women': 253, 'father': 254, 'full': 255, 'wrong': 256, 'getting': 257, 'hollywood': 258, 'line': 259, 'stupid': 260, 'came': 261, 'let': 262, 'start': 263, 'school': 264, 'terrible': 265, 'tell': 266, 'others': 267, 'remember': 268, 'understand': 269, 'sex': 270, 'perhaps': 271, 'keep': 272, 'awful': 273, 'moments': 274, 'mean': 275, 'camera': 276, 'playing': 277, 'wonderful': 278, 'definitely': 279, 'name': 280, 'small': 281, 'budget': 282, 'gives': 283, 'video': 284, 'absolutely': 285, 'human': 286, 'went': 287, 'guys': 288, 'couldnt': 289, 'top': 290, 'dialogue': 291, 'episode': 292, 'often': 293, 'early': 294, 'person': 295, 'perfect': 296, 'piece': 297, 'certainly': 298, 'become': 299, 'face': 300, 'lines': 301, 'finally': 302, 'head': 303, 'stars': 304, 'case': 305, 'hope': 306, 'loved': 307, 'title': 308, 'liked': 309, 'sort': 310, 'yes': 311, 'style': 312, 'felt': 313, 'supposed': 314, 'mother': 315, 'several': 316, 'live': 317, 'entertaining': 318, 'overall': 319, 'lost': 320, 'entire': 321, 'worse': 322, 'waste': 323, 'written': 324, 'laugh': 325, 'based': 326, 'mr': 327, 'shes': 328, 'seemed': 329, 'beginning': 330, 'picture': 331, 'id': 332, 'problem': 333, 'boy': 334, 'totally': 335, 'oh': 336, 'despite': 337, 'friend': 338, 'wanted': 339, 'dark': 340, 'becomes': 341, 'children': 342, 'sound': 343, 'humor': 344, 'fans': 345, 'cinema': 346, 'care': 347, 'final': 348, 'example': 349, 'already': 350, 'low': 351, 'throughout': 352, 'able': 353, 'called': 354, 'direction': 355, 'wont': 356, 'lead': 357, 'drama': 358, 'youll': 359, 'guess': 360, 'turn': 361, 'unfortunately': 362, 'evil': 363, 'lives': 364, 'white': 365, 'wants': 366, 'girls': 367, 'horrible': 368, 'writing': 369, 'days': 370, 'fine': 371, 'game': 372, 'quality': 373, 'theyre': 374, 'works': 375, 'history': 376, 'kill': 377, 'amazing': 378, 'son': 379, 'michael': 380, 'killer': 381, 'turns': 382, 'gave': 383, 'act': 384, 'tries': 385, 'enjoyed': 386, 'favorite': 387, 'expect': 388, 'parts': 389, 'town': 390, 'side': 391, 'flick': 392, 'matter': 393, 'ones': 394, 'directed': 395, 'run': 396, 'behind': 397, 'obviously': 398, 'starts': 399, 'stuff': 400, 'past': 401, 'brilliant': 402, 'eyes': 403, 'car': 404, 'sometimes': 405, 'soon': 406, 'actress': 407, 'heart': 408, 'highly': 409, 'ill': 410, 'says': 411, 'viewer': 412, 'city': 413, 'thinking': 414, 'decent': 415, 'took': 416, 'killed': 417, 'child': 418, 'feeling': 419, 'art': 420, 'genre': 421, 'happens': 422, 'late': 423, 'except': 424, 'hour': 425, 'hell': 426, 'extremely': 427, 'group': 428, 'heard': 429, 'told': 430, 'kid': 431, 'leave': 432, 'stories': 433, 'involved': 434, 'experience': 435, 'fight': 436, 'lack': 437, 'wouldnt': 438, 'chance': 439, 'close': 440, 'ok': 441, 'moment': 442, 'save': 443, 'strong': 444, 'coming': 445, 'anyway': 446, 'etc': 447, 'wonder': 448, 'simple': 449, 'god': 450, 'itbr': 451, 'violence': 452, 'police': 453, 'cannot': 454, 'blood': 455, 'complete': 456, 'hand': 457, 'looked': 458, 'score': 459, 'particularly': 460, 'type': 461, 'attempt': 462, 'song': 463, 'shown': 464, 'cool': 465, 'including': 466, 'hilarious': 467, 'roles': 468, 'stop': 469, 'taken': 470, 'obvious': 471, 'daughter': 472, 'james': 473, 'usually': 474, 'happen': 475, 'lets': 476, 'living': 477, 'exactly': 478, 'robert': 479, 'across': 480, 'released': 481, 'alone': 482, 'please': 483, 'happened': 484, 'serious': 485, 'none': 486, 'known': 487, 'voice': 488, 'english': 489, 'murder': 490, 'opening': 491, 'huge': 492, 'interest': 493, 'whose': 494, 'slow': 495, 'david': 496, 'wish': 497, 'ago': 498, 'major': 499, 'sad': 500, 'jokes': 501, 'seriously': 502, 'saying': 503, 'number': 504, 'order': 505, 'reality': 506, 'shots': 507, 'hours': 508, 'age': 509, 'crap': 510, 'hit': 511, 'cinematography': 512, 'view': 513, 'gore': 514, 'cut': 515, 'talent': 516, 'running': 517, 'ends': 518, 'relationship': 519, 'possible': 520, 'call': 521, 'today': 522, 'documentary': 523, 'career': 524, 'annoying': 525, 'female': 526, 'beyond': 527, 'taking': 528, 'change': 529, 'knows': 530, 'body': 531, 'usual': 532, 'somewhat': 533, 'mostly': 534, 'power': 535, 'important': 536, 'started': 537, 'basically': 538, 'husband': 539, 'turned': 540, 'apparently': 541, 'knew': 542, 'hero': 543, 'rating': 544, 'jack': 545, 'whats': 546, 'opinion': 547, 'brother': 548, 'ridiculous': 549, 'four': 550, 'finds': 551, 'silly': 552, 'talking': 553, 'word': 554, 'local': 555, 'directors': 556, 'words': 557, 'due': 558, 'episodes': 559, 'scary': 560, 'strange': 561, 'novel': 562, 'television': 563, 'attention': 564, 'upon': 565, 'level': 566, 'arent': 567, 'clearly': 568, 'country': 569, 'cheap': 570, 'problems': 571, 'single': 572, 'disappointed': 573, 'miss': 574, 'room': 575, 'talk': 576, 'happy': 577, 'events': 578, 'british': 579, 'musical': 580, 'add': 581, 'similar': 582, 'sequence': 583, 'moviebr': 584, 'tells': 585, 'whether': 586, 'modern': 587, 'review': 588, 'havent': 589, 'ten': 590, 'sets': 591, 'five': 592, 'appears': 593, 'french': 594, 'light': 595, 'songs': 596, 'easily': 597, 'lots': 598, 'bring': 599, 'predictable': 600, 'future': 601, 'hate': 602, 'supporting': 603, 'george': 604, 'team': 605, 'falls': 606, 'mention': 607, 'bunch': 608, 'enjoyable': 609, 'moving': 610, 'viewers': 611, 'showing': 612, 'giving': 613, 'filmbr': 614, 'space': 615, 'needs': 616, 'dialog': 617, 'certain': 618, 'soundtrack': 619, 'clear': 620, 'within': 621, 'parents': 622, 'entertainment': 623, 'comic': 624, 'earth': 625, 'surprised': 626, 'tried': 627, 'among': 628, 'theme': 629, 'comments': 630, 'romantic': 631, 'message': 632, 'using': 633, 'king': 634, 'dull': 635, 'filmed': 636, 'storyline': 637, 'sorry': 638, 'imagine': 639, 'writer': 640, 'ways': 641, 'richard': 642, 'middle': 643, 'buy': 644, 'release': 645, 'typical': 646, 'named': 647, 'kept': 648, 'points': 649, 'fall': 650, 'elements': 651, 'feels': 652, 'near': 653, 'dr': 654, 'avoid': 655, 'effort': 656, 'easy': 657, 'gone': 658, 'thriller': 659, 'nearly': 660, 'suspense': 661, 'deal': 662, 'stay': 663, 'realistic': 664, 'theater': 665, 'doubt': 666, 'actual': 667, 'sequel': 668, 'brought': 669, 'editing': 670, 'minute': 671, 'means': 672, 'sister': 673, 'famous': 674, 'monster': 675, 'lady': 676, 'peter': 677, 'greatest': 678, 'rock': 679, 'okay': 680, 'somehow': 681, 'move': 682, 'reviews': 683, 'working': 684, 'fantastic': 685, 'general': 686, 'youve': 687, 'paul': 688, 'tale': 689, 'check': 690, 'boys': 691, 'feature': 692, 'th': 693, 'leads': 694, 'form': 695, 'whos': 696, 'die': 697, 'begins': 698, 'viewing': 699, 'red': 700, 'straight': 701, 'subject': 702, 'class': 703, 'animation': 704, 'learn': 705, 'killing': 706, 'forget': 707, 'figure': 708, 'sit': 709, 'eventually': 710, 'premise': 711, 'material': 712, 'mystery': 713, 'shame': 714, 'hear': 715, 'surprise': 716, 'period': 717, 'weak': 718, 'rent': 719, 'particular': 720, 'follow': 721, 'wait': 722, 'fast': 723, 'decided': 724, 'sequences': 725, 'dog': 726, 'tom': 727, 'possibly': 728, 'crime': 729, 'expected': 730, 'whatever': 731, 'doctor': 732, 'york': 733, 'believable': 734, 'oscar': 735, 'eye': 736, 'difficult': 737, 'deep': 738, 'atmosphere': 739, 'stand': 740, 'otherwise': 741, 'note': 742, 'leaves': 743, 'average': 744, 'meet': 745, 'scifi': 746, 'romance': 747, 'situation': 748, 'became': 749, 'footage': 750, 'poorly': 751, 'lame': 752, 'memorable': 753, 'imdb': 754, 'dance': 755, 'crew': 756, 'filmmakers': 757, 'question': 758, 'truth': 759, 'emotional': 760, 'indeed': 761, 'unless': 762, 'write': 763, 'needed': 764, 'hot': 765, 'begin': 766, 'gay': 767, 'forced': 768, 'society': 769, 'reading': 770, 'interested': 771, 'keeps': 772, 'beauty': 773, 'season': 774, 'sexual': 775, 'japanese': 776, 'plus': 777, 'total': 778, 'america': 779, 'de': 780, 'meets': 781, 'western': 782, 'writers': 783, 'open': 784, 'towards': 785, 'nature': 786, 'quickly': 787, 'credits': 788, 'previous': 789, 'street': 790, 'sounds': 791, 'features': 792, 'third': 793, 'box': 794, 'result': 795, 'various': 796, 'screenplay': 797, 'male': 798, 'inside': 799, 'following': 800, 'perfectly': 801, 'cheesy': 802, 'unique': 803, 'crazy': 804, 'older': 805, 'laughs': 806, 'plenty': 807, 'effect': 808, 'comment': 809, 'appear': 810, 'badly': 811, 'superb': 812, 'personal': 813, 'battle': 814, 'b': 815, 'powerful': 816, 'stage': 817, 'brings': 818, 'copy': 819, 'weird': 820, 'earlier': 821, 'hands': 822, 'incredibly': 823, 'setting': 824, 'background': 825, 'lee': 826, 'masterpiece': 827, 'joe': 828, 'ask': 829, 'front': 830, 'air': 831, 'acted': 832, 'worked': 833, 'mark': 834, 'realize': 835, 'admit': 836, 'bill': 837, 'portrayed': 838, 'mess': 839, 'match': 840, 'free': 841, 'dramatic': 842, 'baby': 843, 'pay': 844, 'island': 845, 'create': 846, 'expecting': 847, 'spent': 848, 'water': 849, 'fairly': 850, 'fails': 851, 'meant': 852, 'dumb': 853, 'rich': 854, 'fire': 855, 'wasted': 856, 'development': 857, 'business': 858, 'forward': 859, 'outside': 860, 'present': 861, 'directing': 862, 'caught': 863, 'leading': 864, 'la': 865, 'ideas': 866, 'apart': 867, 'reasons': 868, 'return': 869, 'plain': 870, 'creepy': 871, 'members': 872, 'attempts': 873, 'unlike': 874, 'fighting': 875, 'manages': 876, 'cover': 877, 'agree': 878, 'van': 879, 'deserves': 880, 'remake': 881, 'political': 882, 'recently': 883, 'cop': 884, 'william': 885, 'laughing': 886, 'secret': 887, 'hardly': 888, 'german': 889, 'odd': 890, 'pure': 891, 'dream': 892, 'potential': 893, 'success': 894, 'created': 895, 'cute': 896, 'telling': 897, 'joke': 898, 'cartoon': 899, 'clever': 900, 'girlfriend': 901, 'talented': 902, 'missing': 903, 'twist': 904, 'pace': 905, 'large': 906, 'considering': 907, 'waiting': 908, 'zombie': 909, 'hold': 910, 'missed': 911, 'brothers': 912, 'ended': 913, 'uses': 914, 'villain': 915, 'break': 916, 'escape': 917, 'cause': 918, 'gun': 919, 'italian': 920, 'casting': 921, 'mentioned': 922, 'disney': 923, 'party': 924, 'era': 925, 'married': 926, 'entirely': 927, 'sees': 928, 'visual': 929, 'incredible': 930, 'speak': 931, 'familiar': 932, 'convincing': 933, 'company': 934, 'popular': 935, 'slightly': 936, 'died': 937, 'sadly': 938, 'nudity': 939, 'credit': 940, 'public': 941, 'fantasy': 942, 'state': 943, 'fit': 944, 'wrote': 945, 'younger': 946, 'decides': 947, 'choice': 948, 'bored': 949, 'office': 950, 'portrayal': 951, 'follows': 952, 'train': 953, 'produced': 954, 'recent': 955, 'audiences': 956, 'common': 957, 'list': 958, 'intelligent': 959, 'basic': 960, 'successful': 961, 'compared': 962, 'rate': 963, 'biggest': 964, 'cold': 965, 'producers': 966, 'exciting': 967, 'suddenly': 968, 'flat': 969, 'kills': 970, 'tension': 971, 'value': 972, 'science': 973, 'amount': 974, 'likes': 975, 'longer': 976, 'trouble': 977, 'hair': 978, 'christmas': 979, 'moves': 980, 'spend': 981, 'dancing': 982, 'social': 983, 'consider': 984, 'college': 985, 'neither': 986, 'fear': 987, 'mad': 988, 'bizarre': 989, 'language': 990, 'appreciate': 991, 'positive': 992, 'images': 993, 'project': 994, 'aside': 995, 'ultimately': 996, 'sweet': 997, 'violent': 998, 'amusing': 999, 'situations': 1000}\n"
          ],
          "name": "stdout"
        }
      ]
    },
    {
      "cell_type": "markdown",
      "metadata": {
        "id": "skX-FiToLHaZ"
      },
      "source": [
        "### Analysing review length"
      ]
    },
    {
      "cell_type": "code",
      "metadata": {
        "trusted": true,
        "colab": {
          "base_uri": "https://localhost:8080/",
          "height": 420
        },
        "id": "6qhlr0CILHaZ",
        "outputId": "bb70500a-a54f-42a2-a2af-985d9ba38fcf"
      },
      "source": [
        "rev_len = [len(i) for i in x_train]\n",
        "pd.Series(rev_len).hist()\n",
        "plt.show()\n",
        "pd.Series(rev_len).describe()"
      ],
      "execution_count": 11,
      "outputs": [
        {
          "output_type": "display_data",
          "data": {
            "image/png": "[encoded data removed]",
            "text/plain": [
              "<Figure size 432x288 with 1 Axes>"
            ]
          },
          "metadata": {
            "tags": [],
            "needs_background": "light"
          }
        },
        {
          "output_type": "execute_result",
          "data": {
            "text/plain": [
              "count    37500.000000\n",
              "mean        69.209787\n",
              "std         48.105226\n",
              "min          2.000000\n",
              "25%         39.000000\n",
              "50%         54.000000\n",
              "75%         84.000000\n",
              "max        653.000000\n",
              "dtype: float64"
            ]
          },
          "metadata": {
            "tags": []
          },
          "execution_count": 11
        }
      ]
    },
    {
      "cell_type": "markdown",
      "metadata": {
        "id": "sahPAX-ALHaa"
      },
      "source": [
        "Observations : <br>a) Mean review length = around 69.<br> b) minimum length of reviews is 2.<br>c)There are quite a few reviews that are extremely long, we can manually investigate them to check whether we need to include or exclude them from our analysis."
      ]
    },
    {
      "cell_type": "markdown",
      "metadata": {
        "id": "WopYhZFYLHaa"
      },
      "source": [
        "### Padding"
      ]
    },
    {
      "cell_type": "markdown",
      "metadata": {
        "id": "s8vL9TwGLHaa"
      },
      "source": [
        "Now we will pad each of the sequence to max length "
      ]
    },
    {
      "cell_type": "code",
      "metadata": {
        "trusted": true,
        "id": "VviK460KLHaa"
      },
      "source": [
        "def padding_(sentences, seq_len):\n",
        "    features = np.zeros((len(sentences), seq_len),dtype=int)\n",
        "    for ii, review in enumerate(sentences):\n",
        "        if len(review) != 0:\n",
        "            features[ii, -len(review):] = np.array(review)[:seq_len]\n",
        "    return features"
      ],
      "execution_count": 12,
      "outputs": []
    },
    {
      "cell_type": "code",
      "metadata": {
        "trusted": true,
        "id": "UErHUjPnLHaa"
      },
      "source": [
        "#we have very less number of reviews with length > 500.\n",
        "#So we will consideronly those below it.\n",
        "x_train_pad = padding_(x_train,500)\n",
        "x_test_pad = padding_(x_test,500)\n"
      ],
      "execution_count": 13,
      "outputs": []
    },
    {
      "cell_type": "markdown",
      "metadata": {
        "id": "TXiHuGXjLHaa"
      },
      "source": [
        "### Batching and loading as tensor"
      ]
    },
    {
      "cell_type": "code",
      "metadata": {
        "trusted": true,
        "id": "zlxb2nXkLHaa"
      },
      "source": [
        "# create Tensor datasets\n",
        "train_data = TensorDataset(torch.from_numpy(x_train_pad), torch.from_numpy(y_train))\n",
        "valid_data = TensorDataset(torch.from_numpy(x_test_pad), torch.from_numpy(y_test))\n",
        "\n",
        "# dataloaders\n",
        "batch_size = 50\n",
        "\n",
        "# make sure to SHUFFLE your data\n",
        "train_loader = DataLoader(train_data, shuffle=True, batch_size=batch_size)\n",
        "valid_loader = DataLoader(valid_data, shuffle=True, batch_size=batch_size)"
      ],
      "execution_count": 14,
      "outputs": []
    },
    {
      "cell_type": "code",
      "metadata": {
        "trusted": true,
        "colab": {
          "base_uri": "https://localhost:8080/"
        },
        "id": "28m302riLHab",
        "outputId": "9d9c9a6e-1a32-492f-aa34-9bc4bd1e362b"
      },
      "source": [
        "# obtain one batch of training data\n",
        "dataiter = iter(train_loader)\n",
        "sample_x, sample_y = dataiter.next()\n",
        "\n",
        "print('Sample input size: ', sample_x.size()) # batch_size, seq_length\n",
        "print('Sample input: \\n', sample_x)\n",
        "print('Sample input: \\n', sample_y)"
      ],
      "execution_count": 15,
      "outputs": [
        {
          "output_type": "stream",
          "text": [
            "Sample input size:  torch.Size([50, 500])\n",
            "Sample input: \n",
            " tensor([[  0,   0,   0,  ..., 842, 433, 209],\n",
            "        [  0,   0,   0,  ...,  34,   2, 252],\n",
            "        [  0,   0,   0,  ...,   2,   2, 409],\n",
            "        ...,\n",
            "        [  0,   0,   0,  ..., 981, 208, 387],\n",
            "        [  0,   0,   0,  ..., 240,  20, 774],\n",
            "        [  0,   0,   0,  ..., 178, 106, 870]])\n",
            "Sample input: \n",
            " tensor([1, 1, 0, 1, 1, 0, 0, 0, 1, 0, 0, 0, 1, 0, 1, 1, 1, 1, 1, 0, 1, 1, 0, 1,\n",
            "        0, 0, 0, 0, 0, 0, 1, 1, 1, 1, 0, 1, 1, 0, 1, 1, 1, 1, 1, 0, 1, 1, 1, 0,\n",
            "        1, 0])\n"
          ],
          "name": "stdout"
        }
      ]
    },
    {
      "cell_type": "markdown",
      "metadata": {
        "id": "InXeCuQxLHab"
      },
      "source": [
        "We need to add an embedding layer because there are less words in our vocabulary. It is massively inefficient to one-hot encode that many classes. So, instead of one-hot encoding, we can have an embedding layer and use that layer as a lookup table. You could train an embedding layer using Word2Vec, then load it here. But, it's fine to just make a new layer, using it for only dimensionality reduction, and let the network learn the weights."
      ]
    },
    {
      "cell_type": "markdown",
      "metadata": {
        "id": "_r4dRxjSLHab"
      },
      "source": [
        "### Model"
      ]
    },
    {
      "cell_type": "code",
      "metadata": {
        "trusted": true,
        "id": "fTz67DdPLHab"
      },
      "source": [
        "class SentimentRNN(nn.Module):\n",
        "  def __init__(self,no_layers,vocab_size,hidden_dim,embedding_dim,drop_prob=0.5):\n",
        "    super(SentimentRNN,self).__init__()\n",
        " \n",
        "    self.output_dim = output_dim\n",
        "    self.hidden_dim = hidden_dim\n",
        " \n",
        "    self.no_layers = no_layers\n",
        "    self.vocab_size = vocab_size\n",
        "    \n",
        "    # embedding and LSTM layers\n",
        "    self.embedding = nn.Embedding(vocab_size, embedding_dim)\n",
        "        \n",
        "    #lstm\n",
        "    self.lstm = nn.LSTM(input_size=embedding_dim,hidden_size=self.hidden_dim,\n",
        "                           num_layers=no_layers, batch_first=True)\n",
        "        \n",
        "    # dropout layer\n",
        "    self.dropout = nn.Dropout(0.3)\n",
        "    \n",
        "    # linear and sigmoid layer\n",
        "    self.fc = nn.Linear(self.hidden_dim, output_dim)\n",
        "    self.sig = nn.Sigmoid()\n",
        "        \n",
        "  def forward(self,x,hidden):\n",
        "    batch_size = x.size(0)\n",
        "\n",
        "    # embeddings and lstm_out\n",
        "    embeds = self.embedding(x)  # shape: B x S x Feature   since batch = True\n",
        "    \n",
        "    #print(embeds.shape)  #[50, 500, 1000]\n",
        "    lstm_out, hidden = self.lstm(embeds, hidden)\n",
        "        \n",
        "    lstm_out = lstm_out.contiguous().view(-1, self.hidden_dim) \n",
        "        \n",
        "    # dropout and fully connected layer\n",
        "    out = self.dropout(lstm_out)\n",
        "    out = self.fc(out)\n",
        "        \n",
        "    # sigmoid function\n",
        "    sig_out = self.sig(out)\n",
        "        \n",
        "    # reshape to be batch_size first\n",
        "    sig_out = sig_out.view(batch_size, -1)\n",
        "\n",
        "    sig_out = sig_out[:, -1] # get last batch of labels\n",
        "        \n",
        "    # return last sigmoid output and hidden state\n",
        "    return sig_out, hidden\n",
        "            \n",
        "  def init_hidden(self, batch_size):\n",
        "    ''' Initializes hidden state '''\n",
        "    # Create two new tensors with sizes n_layers x batch_size x hidden_dim,\n",
        "    # initialized to zero, for hidden state and cell state of LSTM\n",
        "    h0 = torch.zeros((self.no_layers,batch_size,self.hidden_dim)).to(device)\n",
        "    c0 = torch.zeros((self.no_layers,batch_size,self.hidden_dim)).to(device)\n",
        "    hidden = (h0,c0)\n",
        "    return hidden\n"
      ],
      "execution_count": 16,
      "outputs": []
    },
    {
      "cell_type": "code",
      "metadata": {
        "trusted": true,
        "colab": {
          "base_uri": "https://localhost:8080/"
        },
        "id": "DPDorjzLLHac",
        "outputId": "335db8d9-c129-4547-bec6-2848f318f581"
      },
      "source": [
        "no_layers = 2\n",
        "vocab_size = len(vocab) + 1 #extra 1 for padding\n",
        "embedding_dim = 64\n",
        "output_dim = 1\n",
        "hidden_dim = 256\n",
        "\n",
        "\n",
        "model = SentimentRNN(no_layers,vocab_size,hidden_dim,embedding_dim,drop_prob=0.5)\n",
        "\n",
        "#moving to gpu\n",
        "model.to(device)\n",
        "\n",
        "print(model)\n"
      ],
      "execution_count": 17,
      "outputs": [
        {
          "output_type": "stream",
          "text": [
            "SentimentRNN(\n",
            "  (embedding): Embedding(1001, 64)\n",
            "  (lstm): LSTM(64, 256, num_layers=2, batch_first=True)\n",
            "  (dropout): Dropout(p=0.3, inplace=False)\n",
            "  (fc): Linear(in_features=256, out_features=1, bias=True)\n",
            "  (sig): Sigmoid()\n",
            ")\n"
          ],
          "name": "stdout"
        }
      ]
    },
    {
      "cell_type": "markdown",
      "metadata": {
        "id": "G0HCg19cLHac"
      },
      "source": [
        "### Training"
      ]
    },
    {
      "cell_type": "code",
      "metadata": {
        "trusted": true,
        "id": "uh_bfkY6LHac"
      },
      "source": [
        "# loss and optimization functions\n",
        "lr=0.001\n",
        "\n",
        "criterion = nn.BCELoss()\n",
        "\n",
        "optimizer = torch.optim.Adam(model.parameters(), lr=lr)\n",
        "\n",
        "# function to predict accuracy\n",
        "def acc(pred,label):\n",
        "    pred = torch.round(pred.squeeze())\n",
        "    return torch.sum(pred == label.squeeze()).item()\n"
      ],
      "execution_count": 19,
      "outputs": []
    },
    {
      "cell_type": "code",
      "metadata": {
        "trusted": true,
        "colab": {
          "base_uri": "https://localhost:8080/"
        },
        "id": "30cFcv_HLHac",
        "outputId": "91d23371-dbc6-40a9-d915-6bc40fa85ae0"
      },
      "source": [
        "clip = 5\n",
        "epochs = 5 \n",
        "valid_loss_min = np.Inf\n",
        "# train for some number of epochs\n",
        "epoch_tr_loss,epoch_vl_loss = [],[]\n",
        "epoch_tr_acc,epoch_vl_acc = [],[]\n",
        "\n",
        "for epoch in range(epochs):\n",
        "    train_losses = []\n",
        "    train_acc = 0.0\n",
        "    model.train()\n",
        "    # initialize hidden state \n",
        "    h = model.init_hidden(batch_size)\n",
        "    for inputs, labels in train_loader:\n",
        "      inputs, labels = inputs.to(device), labels.to(device)   \n",
        "\n",
        "      # Creating new variables for the hidden state, otherwise\n",
        "      # we'd backprop through the entire training history\n",
        "      h = tuple([each.data for each in h])\n",
        "        \n",
        "      model.zero_grad()\n",
        "      output,h = model(inputs,h)\n",
        "        \n",
        "      # calculate the loss and perform backprop\n",
        "      loss = criterion(output.squeeze(), labels.float())\n",
        "      loss.backward()\n",
        "      train_losses.append(loss.item())\n",
        "    \n",
        "      # calculating accuracy\n",
        "      accuracy = acc(output,labels)\n",
        "      train_acc += accuracy\n",
        "      \n",
        "      #`clip_grad_norm` helps prevent the exploding gradient problem in RNNs / LSTMs.\n",
        "      nn.utils.clip_grad_norm_(model.parameters(), clip)\n",
        "      optimizer.step()\n",
        " \n",
        "    \n",
        "        \n",
        "    val_h = model.init_hidden(batch_size)\n",
        "    val_losses = []\n",
        "    val_acc = 0.0\n",
        "    model.eval()\n",
        "\n",
        "    for inputs, labels in valid_loader:\n",
        "      val_h = tuple([each.data for each in val_h])\n",
        "\n",
        "      inputs, labels = inputs.to(device), labels.to(device)\n",
        "\n",
        "      output, val_h = model(inputs, val_h)\n",
        "      val_loss = criterion(output.squeeze(), labels.float())\n",
        "\n",
        "      val_losses.append(val_loss.item())\n",
        "            \n",
        "      accuracy = acc(output,labels)\n",
        "      val_acc += accuracy\n",
        "            \n",
        "    epoch_train_loss = np.mean(train_losses)\n",
        "    epoch_val_loss = np.mean(val_losses)\n",
        "    epoch_train_acc = train_acc/len(train_loader.dataset)\n",
        "    epoch_val_acc = val_acc/len(valid_loader.dataset)\n",
        "    epoch_tr_loss.append(epoch_train_loss)\n",
        "    epoch_vl_loss.append(epoch_val_loss)\n",
        "    epoch_tr_acc.append(epoch_train_acc)\n",
        "    epoch_vl_acc.append(epoch_val_acc)\n",
        "    \n",
        "    print(f'Epoch {epoch+1}') \n",
        "    print(f'train_loss : {epoch_train_loss} val_loss : {epoch_val_loss}')\n",
        "    print(f'train_accuracy : {epoch_train_acc*100} val_accuracy : {epoch_val_acc*100}')\n",
        "    \n",
        "    if epoch_val_loss <= valid_loss_min:\n",
        "      torch.save(model.state_dict(), './state_dict.pt')\n",
        "      print('Validation loss decreased ({:.6f} --> {:.6f}).  Saving model ...'.format(valid_loss_min,epoch_val_loss))\n",
        "      valid_loss_min = epoch_val_loss\n",
        "    \n",
        "    print(25*'==')\n",
        "    "
      ],
      "execution_count": 20,
      "outputs": [
        {
          "output_type": "stream",
          "text": [
            "Epoch 1\n",
            "train_loss : 0.4987247204184532 val_loss : 0.4348054043650627\n",
            "train_accuracy : 75.81333333333333 val_accuracy : 82.06400000000001\n",
            "Validation loss decreased (inf --> 0.434805).  Saving model ...\n",
            "==================================================\n",
            "Epoch 2\n",
            "train_loss : 0.3743605373899142 val_loss : 0.35137131255865095\n",
            "train_accuracy : 83.90666666666667 val_accuracy : 84.696\n",
            "Validation loss decreased (0.434805 --> 0.351371).  Saving model ...\n",
            "==================================================\n",
            "Epoch 3\n",
            "train_loss : 0.33181554940342906 val_loss : 0.3605888286828995\n",
            "train_accuracy : 86.08266666666667 val_accuracy : 84.784\n",
            "==================================================\n",
            "Epoch 4\n",
            "train_loss : 0.30088458079099656 val_loss : 0.3378210133314133\n",
            "train_accuracy : 87.47733333333333 val_accuracy : 85.768\n",
            "Validation loss decreased (0.351371 --> 0.337821).  Saving model ...\n",
            "==================================================\n",
            "Epoch 5\n",
            "train_loss : 0.2659750072757403 val_loss : 0.3416095817387104\n",
            "train_accuracy : 89.10666666666667 val_accuracy : 85.80799999999999\n",
            "==================================================\n"
          ],
          "name": "stdout"
        }
      ]
    },
    {
      "cell_type": "code",
      "metadata": {
        "trusted": true,
        "colab": {
          "base_uri": "https://localhost:8080/",
          "height": 390
        },
        "id": "qpgWHMZALHad",
        "outputId": "3fdde14b-fa0e-4de9-960a-9ba998d1defc"
      },
      "source": [
        "fig = plt.figure(figsize = (20, 6))\n",
        "plt.subplot(1, 2, 1)\n",
        "plt.plot(epoch_tr_acc, label='Train Acc')\n",
        "plt.plot(epoch_vl_acc, label='Validation Acc')\n",
        "plt.title(\"Accuracy\")\n",
        "plt.legend()\n",
        "plt.grid()\n",
        "    \n",
        "plt.subplot(1, 2, 2)\n",
        "plt.plot(epoch_tr_loss, label='Train loss')\n",
        "plt.plot(epoch_vl_loss, label='Validation loss')\n",
        "plt.title(\"Loss\")\n",
        "plt.legend()\n",
        "plt.grid()\n",
        "\n",
        "plt.show()"
      ],
      "execution_count": 21,
      "outputs": [
        {
          "output_type": "display_data",
          "data": {
            "image/png": "[encoded data removed]",
            "text/plain": [
              "<Figure size 1440x432 with 2 Axes>"
            ]
          },
          "metadata": {
            "tags": [],
            "needs_background": "light"
          }
        }
      ]
    },
    {
      "cell_type": "markdown",
      "metadata": {
        "id": "NQuECA8JLHad"
      },
      "source": [
        "### Inferance"
      ]
    },
    {
      "cell_type": "code",
      "metadata": {
        "trusted": true,
        "id": "kIrRyaJgLHaf"
      },
      "source": [
        "def predict_text(text):\n",
        "        word_seq = np.array([vocab[preprocess_string(word)] for word in text.split() \n",
        "                         if preprocess_string(word) in vocab.keys()])\n",
        "        word_seq = np.expand_dims(word_seq,axis=0)\n",
        "        pad =  torch.from_numpy(padding_(word_seq,500))\n",
        "        inputs = pad.to(device)\n",
        "        batch_size = 1\n",
        "        h = model.init_hidden(batch_size)\n",
        "        h = tuple([each.data for each in h])\n",
        "        output, h = model(inputs, h)\n",
        "        return(output.item())"
      ],
      "execution_count": 22,
      "outputs": []
    },
    {
      "cell_type": "code",
      "metadata": {
        "trusted": true,
        "colab": {
          "base_uri": "https://localhost:8080/"
        },
        "id": "WRmwKZZULHaf",
        "outputId": "3905f6f4-99f1-4bd8-c58a-51e1424f208d"
      },
      "source": [
        "\n",
        "index = 30\n",
        "print(df['review'][index])\n",
        "print('='*70)\n",
        "print(f'Actual sentiment is  : {df[\"sentiment\"][index]}')\n",
        "print('='*70)\n",
        "pro = predict_text(df['review'][index])\n",
        "status = \"positive\" if pro > 0.5 else \"negative\"\n",
        "pro = (1 - pro) if status == \"negative\" else pro\n",
        "print(f'Predicted sentiment is {status} with a probability of {pro}')"
      ],
      "execution_count": 23,
      "outputs": [
        {
          "output_type": "stream",
          "text": [
            "Taut and organically gripping, Edward Dmytryk's Crossfire is a distinctive suspense thriller, an unlikely \"message\" movie using the look and devices of the noir cycle.<br /><br />Bivouacked in Washington, DC, a company of soldiers cope with their restlessness by hanging out in bars. Three of them end up at a stranger's apartment where Robert Ryan, drunk and belligerent, beats their host (Sam Levene) to death because he happens to be Jewish. Police detective Robert Young investigates with the help of Robert Mitchum, who's assigned to Ryan's outfit. Suspicion falls on the second of the three (George Cooper), who has vanished. Ryan slays the third buddy (Steve Brodie) to insure his silence before Young closes in.<br /><br />Abetted by a superior script by John Paxton, Dmytryk draws precise performances from his three starring Bobs. Ryan, naturally, does his prototypical Angry White Male (and to the hilt), while Mitchum underplays with his characteristic alert nonchalance (his role, however, is not central); Young may never have been better. Gloria Grahame gives her first fully-fledged rendition of the smart-mouthed, vulnerable tramp, and, as a sad sack who's leeched into her life, Paul Kelly haunts us in a small, peripheral role that he makes memorable.<br /><br />The politically engaged Dmytryk perhaps inevitably succumbs to sermonizing, but it's pretty much confined to Young's reminiscence of how his Irish grandfather died at the hands of bigots a century earlier (thus, incidentally, stretching chronology to the limit). At least there's no attempt to render an explanation, however glib, of why Ryan hates Jews (and hillbillies and...).<br /><br />Curiously, Crossfire survives even the major change wrought upon it -- the novel it's based on (Richard Brooks' The Brick Foxhole) dealt with a gay-bashing murder. But homosexuality in 1947 was still Beyond The Pale. News of the Holocaust had, however, begun to emerge from the ashes of Europe, so Hollywood felt emboldened to register its protest against anti-Semitism (the studios always quaked at the prospect of offending any potential ticket buyer).<br /><br />But while the change from homophobia to anti-Semitism works in general, the specifics don't fit so smoothly. The victim's chatting up a lonesome, drunk young soldier then inviting him back home looks odd, even though (or especially since) there's a girlfriend in tow. It raises the question whether this scenario was retained inadvertently or left in as a discreet tip-off to the original engine generating Ryan's murderous rage.\n",
            "======================================================================\n",
            "Actual sentiment is  : positive\n",
            "======================================================================\n",
            "Predicted sentiment is positive with a probability of 0.5397188067436218\n"
          ],
          "name": "stdout"
        }
      ]
    },
    {
      "cell_type": "code",
      "metadata": {
        "trusted": true,
        "colab": {
          "base_uri": "https://localhost:8080/"
        },
        "id": "MuC6hKYfLHaf",
        "outputId": "e1b0ad54-fb3e-42e0-fadd-edea622df3ce"
      },
      "source": [
        "\n",
        "index = 32\n",
        "print(df['review'][index])\n",
        "print('='*70)\n",
        "print(f'Actual sentiment is  : {df[\"sentiment\"][index]}')\n",
        "print('='*70)\n",
        "pro = predict_text(df['review'][index])\n",
        "status = \"positive\" if pro > 0.5 else \"negative\"\n",
        "pro = (1 - pro) if status == \"negative\" else pro\n",
        "print(f'predicted sentiment is {status} with a probability of {pro}')"
      ],
      "execution_count": 24,
      "outputs": [
        {
          "output_type": "stream",
          "text": [
            "My first exposure to the Templarios & not a good one. I was excited to find this title among the offerings from Anchor Bay Video, which has brought us other cult classics such as \"Spider Baby\". The print quality is excellent, but this alone can't hide the fact that the film is deadly dull. There's a thrilling opening sequence in which the villagers exact a terrible revenge on the Templars (& set the whole thing in motion), but everything else in the movie is slow, ponderous &, ultimately, unfulfilling. Adding insult to injury: the movie was dubbed, not subtitled, as promised on the video jacket.\n",
            "======================================================================\n",
            "Actual sentiment is  : negative\n",
            "======================================================================\n",
            "predicted sentiment is negative with a probability of 0.9656416177749634\n"
          ],
          "name": "stdout"
        }
      ]
    },
    {
      "cell_type": "markdown",
      "metadata": {
        "id": "9YSGuGfSLHag"
      },
      "source": [
        "Some improvement suggestions are as follow:\n",
        "\n",
        "* Running a hyperparameter search to optimize your configurations.\n",
        "* Using pretraned word embeddings like Glove word embeddings\n",
        "* Increasing the model complexity like adding more layers/ using bidirectional LSTMs\n"
      ]
    },
    {
      "cell_type": "code",
      "metadata": {
        "colab": {
          "base_uri": "https://localhost:8080/"
        },
        "id": "APs1rsc7VnVK",
        "outputId": "b8c49257-e711-4acf-f20b-1c5fa78e3e38"
      },
      "source": [
        "pro = predict_text(\"Fishing is booming in Corona times\")\n",
        "status = \"positive\" if pro > 0.5 else \"negative\"\n",
        "pro = (1 - pro) if status == \"negative\" else pro\n",
        "print(f'predicted sentiment is {status} with a probability of {pro}')"
      ],
      "execution_count": 25,
      "outputs": [
        {
          "output_type": "stream",
          "text": [
            "predicted sentiment is positive with a probability of 0.7924923300743103\n"
          ],
          "name": "stdout"
        }
      ]
    },
    {
      "cell_type": "code",
      "metadata": {
        "id": "hM3DpjF6VFip"
      },
      "source": [
        ""
      ],
      "execution_count": null,
      "outputs": []
    }
  ]
}